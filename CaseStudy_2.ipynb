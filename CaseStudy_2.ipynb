{
 "cells": [
  {
   "cell_type": "code",
   "execution_count": 1,
   "id": "777b7998",
   "metadata": {},
   "outputs": [],
   "source": [
    "import pandas as pd"
   ]
  },
  {
   "cell_type": "code",
   "execution_count": 2,
   "id": "b45759ab",
   "metadata": {},
   "outputs": [],
   "source": [
    "df = pd.read_csv('casestudy.csv')"
   ]
  },
  {
   "cell_type": "code",
   "execution_count": 3,
   "id": "80625692",
   "metadata": {},
   "outputs": [
    {
     "data": {
      "text/html": [
       "<div>\n",
       "<style scoped>\n",
       "    .dataframe tbody tr th:only-of-type {\n",
       "        vertical-align: middle;\n",
       "    }\n",
       "\n",
       "    .dataframe tbody tr th {\n",
       "        vertical-align: top;\n",
       "    }\n",
       "\n",
       "    .dataframe thead th {\n",
       "        text-align: right;\n",
       "    }\n",
       "</style>\n",
       "<table border=\"1\" class=\"dataframe\">\n",
       "  <thead>\n",
       "    <tr style=\"text-align: right;\">\n",
       "      <th></th>\n",
       "      <th>Unnamed: 0</th>\n",
       "      <th>customer_email</th>\n",
       "      <th>net_revenue</th>\n",
       "      <th>year</th>\n",
       "    </tr>\n",
       "  </thead>\n",
       "  <tbody>\n",
       "    <tr>\n",
       "      <th>0</th>\n",
       "      <td>0</td>\n",
       "      <td>nhknapwsbx@gmail.com</td>\n",
       "      <td>249.92</td>\n",
       "      <td>2015</td>\n",
       "    </tr>\n",
       "    <tr>\n",
       "      <th>1</th>\n",
       "      <td>1</td>\n",
       "      <td>joiuzbvcpn@gmail.com</td>\n",
       "      <td>87.61</td>\n",
       "      <td>2015</td>\n",
       "    </tr>\n",
       "    <tr>\n",
       "      <th>2</th>\n",
       "      <td>2</td>\n",
       "      <td>ukkjctepxt@gmail.com</td>\n",
       "      <td>168.38</td>\n",
       "      <td>2015</td>\n",
       "    </tr>\n",
       "    <tr>\n",
       "      <th>3</th>\n",
       "      <td>3</td>\n",
       "      <td>gykatilzrt@gmail.com</td>\n",
       "      <td>62.40</td>\n",
       "      <td>2015</td>\n",
       "    </tr>\n",
       "    <tr>\n",
       "      <th>4</th>\n",
       "      <td>4</td>\n",
       "      <td>mmsgsrtxah@gmail.com</td>\n",
       "      <td>43.08</td>\n",
       "      <td>2015</td>\n",
       "    </tr>\n",
       "  </tbody>\n",
       "</table>\n",
       "</div>"
      ],
      "text/plain": [
       "   Unnamed: 0         customer_email  net_revenue  year\n",
       "0           0   nhknapwsbx@gmail.com       249.92  2015\n",
       "1           1   joiuzbvcpn@gmail.com        87.61  2015\n",
       "2           2   ukkjctepxt@gmail.com       168.38  2015\n",
       "3           3   gykatilzrt@gmail.com        62.40  2015\n",
       "4           4   mmsgsrtxah@gmail.com        43.08  2015"
      ]
     },
     "execution_count": 3,
     "metadata": {},
     "output_type": "execute_result"
    }
   ],
   "source": [
    "df.head()"
   ]
  },
  {
   "cell_type": "markdown",
   "id": "991551ed",
   "metadata": {},
   "source": [
    "# Total Net Revenue for the Current Year (2017)"
   ]
  },
  {
   "cell_type": "code",
   "execution_count": null,
   "id": "cc87e45a",
   "metadata": {},
   "outputs": [],
   "source": [
    "\"\"\"\n",
    "QUESTION 1\n",
    "\"\"\"\n",
    "sum1 = 0\n",
    "for index,row in df.iterrows():\n",
    "    if (row[\"year\"]==2017):\n",
    "        sum1+=row[\"net_revenue\"]\n",
    "print(sum1)"
   ]
  },
  {
   "cell_type": "markdown",
   "id": "cffc16e9",
   "metadata": {},
   "source": [
    "# New Customer Revenue"
   ]
  },
  {
   "cell_type": "code",
   "execution_count": 29,
   "id": "2b8d8b02",
   "metadata": {},
   "outputs": [
    {
     "name": "stdout",
     "output_type": "stream",
     "text": [
      "47021726.050000206\n"
     ]
    }
   ],
   "source": [
    "\"\"\"\n",
    "QUESTION 2\n",
    "\"\"\"\n",
    "dict2015 = {}\n",
    "for index,row in df.iterrows():\n",
    "\n",
    "    if(row[\"year\"]==2015):\n",
    "        if row[\"customer_email\"] not in dict2015:\n",
    "            dict2015[row[\"customer_email\"]] = [row[\"net_revenue\"]]\n",
    "        else:\n",
    "            dict2015[row[\"customer_email\"]].append(row[\"net_revenue\"])\n",
    "            \n",
    "dict2016 = {}\n",
    "for index,row in df.iterrows():\n",
    "\n",
    "    if(row[\"year\"]==2016):\n",
    "        if row[\"customer_email\"] not in dict2016:\n",
    "            dict2016[row[\"customer_email\"]] = [row[\"net_revenue\"]]\n",
    "        else:\n",
    "            dict2016[row[\"customer_email\"]].append(row[\"net_revenue\"])\n",
    "\n",
    "dict2017 = {}\n",
    "for index,row in df.iterrows():\n",
    "\n",
    "    if(row[\"year\"]==2017):\n",
    "        if row[\"customer_email\"] not in dict2017:\n",
    "            dict2017[row[\"customer_email\"]] = [row[\"net_revenue\"]]\n",
    "        else:\n",
    "            dict2017[row[\"customer_email\"]].append(row[\"net_revenue\"])\n",
    "\n",
    "net2016=0\n",
    "j=0\n",
    "k=0\n",
    "for key,value in dict2016.items():\n",
    "    if key not in dict2015:\n",
    "        for j in range(len(value)):\n",
    "            net2016+=value[j]\n",
    "net2017= 0\n",
    "for key,value in dict2017.items():\n",
    "    if key not in dict2016:\n",
    "        for k in range(len(value)):\n",
    "            net2017+=value[k]\n",
    "\n",
    "#print(net2016)\n",
    "#print(net2017)\n",
    "    \n",
    "print(net2016+net2017)"
   ]
  },
  {
   "cell_type": "markdown",
   "id": "08ff6144",
   "metadata": {},
   "source": [
    "# Existing Customer Growth"
   ]
  },
  {
   "cell_type": "code",
   "execution_count": 19,
   "id": "21dfc3fb",
   "metadata": {},
   "outputs": [
    {
     "name": "stdout",
     "output_type": "stream",
     "text": [
      "82879382.2099957\n"
     ]
    }
   ],
   "source": [
    "\"\"\"\n",
    "Question 3\n",
    "\"\"\"\n",
    "\n",
    "sum2 = 0\n",
    "for index,row in df.iterrows():\n",
    "    if (row[\"year\"]==2016):\n",
    "        sum1+=row[\"net_revenue\"]\n",
    "\n",
    "print(sum1 - sum2)\n",
    "\n"
   ]
  },
  {
   "cell_type": "markdown",
   "id": "b84a6ddb",
   "metadata": {},
   "source": [
    "# Existing Customer revenue for Current Year and Prior Year"
   ]
  },
  {
   "cell_type": "code",
   "execution_count": 32,
   "id": "ca5d42ac",
   "metadata": {},
   "outputs": [
    {
     "name": "stdout",
     "output_type": "stream",
     "text": [
      "The Prior Year 2016 Customer revenue is 7485452.5800000075\n",
      "The Current Year 2017 Customer revenue is 2641259.990000008\n"
     ]
    }
   ],
   "source": [
    "\"\"\"\n",
    "Question 5, 6\n",
    "\"\"\"\n",
    "existcustomer2016={}\n",
    "existcustomer2017={}\n",
    "existSum2016 = 0\n",
    "existSum2017 =0\n",
    "for key,value in dict2016.items():\n",
    "    if key in dict2015 and key in dict2016:\n",
    "        existcustomer2016[key]= value\n",
    "\n",
    "for key,value in dict2017.items():\n",
    "    if key in dict2016 and key in dict2017:\n",
    "        existcustomer2017[key]= value\n",
    "        \n",
    "# print(existcustomer2016)\n",
    "j,k=0,0\n",
    "# print(existcustomer2017)\n",
    "for key, value in existcustomer2016.items():\n",
    "    for j in range(len(value)):\n",
    "        existSum2016+=value[j]\n",
    "for key, value in existcustomer2017.items():\n",
    "    for k in range(len(value)):\n",
    "        existSum2017+=value[k]\n",
    "\n",
    "print(\"The Prior Year 2016 Customer revenue is \"+str(existSum2016))\n",
    "print(\"The Current Year 2017 Customer revenue is \"+str(existSum2017))\n",
    "\n",
    "        \n",
    "        "
   ]
  },
  {
   "cell_type": "markdown",
   "id": "5f228952",
   "metadata": {},
   "source": [
    "# Total Customer for Current Year"
   ]
  },
  {
   "cell_type": "code",
   "execution_count": 28,
   "id": "30c9cfad",
   "metadata": {},
   "outputs": [
    {
     "name": "stdout",
     "output_type": "stream",
     "text": [
      "249987\n"
     ]
    }
   ],
   "source": [
    "#total customer current year\n",
    "\"\"\"\n",
    "QUESTION 7\n",
    "\"\"\"\n",
    "customer = 0\n",
    "for k,v in dict2017.items():\n",
    "        customer+=1\n",
    "print(customer)\n"
   ]
  },
  {
   "cell_type": "markdown",
   "id": "38d0bbca",
   "metadata": {},
   "source": [
    "# Total Customer Previous Year 2016"
   ]
  },
  {
   "cell_type": "code",
   "execution_count": 23,
   "id": "656438a1",
   "metadata": {},
   "outputs": [
    {
     "name": "stdout",
     "output_type": "stream",
     "text": [
      "204646\n"
     ]
    }
   ],
   "source": [
    "customer2017Total = customer \n",
    "#total customer previous year 2016\n",
    "\"\"\"\n",
    "QUESTION 8\n",
    "\"\"\"\n",
    "customer = 0\n",
    "for k,v in dict2016.items():\n",
    "        customer+=1\n",
    "print(customer)"
   ]
  },
  {
   "cell_type": "markdown",
   "id": "813bf807",
   "metadata": {},
   "source": [
    "# Total number of New Customer"
   ]
  },
  {
   "cell_type": "code",
   "execution_count": 25,
   "id": "9c2a0cc7",
   "metadata": {},
   "outputs": [
    {
     "name": "stdout",
     "output_type": "stream",
     "text": [
      "229028\n"
     ]
    }
   ],
   "source": [
    "customer2016Total = customer \n",
    "#New Customer \n",
    "\"\"\"\n",
    "QUESTION 9\n",
    "\"\"\"\n",
    "newCustomer = 0\n",
    "newCustomer = customer2017Total - len(existcustomer2017)\n",
    "print(newCustomer)"
   ]
  },
  {
   "cell_type": "markdown",
   "id": "e44848fc",
   "metadata": {},
   "source": [
    "# Total number of lost Customer"
   ]
  },
  {
   "cell_type": "code",
   "execution_count": 38,
   "id": "9734e511",
   "metadata": {},
   "outputs": [
    {
     "name": "stdout",
     "output_type": "stream",
     "text": [
      "355397\n"
     ]
    }
   ],
   "source": [
    "#lost custoner\n",
    "\"\"\"\n",
    "QUESTION 10 \n",
    "\"\"\"\n",
    "lostCustomer = 0\n",
    "l = {}\n",
    "for key,value in dict2016.items():\n",
    "    if key in dict2016 and key not in dict2017:\n",
    "        l[key]= value\n",
    "# print(len(l))\n",
    "k = {}\n",
    "for key,value in dict2015.items():\n",
    "    if key in dict2015 and key not in dict2016:\n",
    "        k[key]= value\n",
    "# print(len(k))\n",
    "\n",
    "print(len(l)+len(k))"
   ]
  },
  {
   "cell_type": "markdown",
   "id": "bdf26b7b",
   "metadata": {},
   "source": [
    "# Revenue lost from attrition"
   ]
  },
  {
   "cell_type": "code",
   "execution_count": 46,
   "id": "15fad232",
   "metadata": {},
   "outputs": [
    {
     "name": "stdout",
     "output_type": "stream",
     "text": [
      "171710\n"
     ]
    }
   ],
   "source": [
    "\"\"\"\n",
    "QUESTION 4\n",
    "\"\"\"\n",
    "lostCustomer = 0\n",
    "m = {}\n",
    "for key,value in dict2015.items():\n",
    "    if key in dict2015 and key not in dict2016:\n",
    "        m[key]= value\n",
    "print(len(m))\n",
    "\n",
    "\n"
   ]
  },
  {
   "cell_type": "code",
   "execution_count": 47,
   "id": "231e0fae",
   "metadata": {
    "scrolled": true
   },
   "outputs": [
    {
     "name": "stdout",
     "output_type": "stream",
     "text": [
      "44681927.010000005\n"
     ]
    }
   ],
   "source": [
    "totalLoss = 0 \n",
    "\n",
    "for key,value in m.items():\n",
    "    for j in range(len(value)):\n",
    "        totalLoss+=value[j]\n",
    "for key,value in l.items():\n",
    "    for j in range(len(value)):\n",
    "        totalLoss+=value[j]\n",
    "print(totalLoss)"
   ]
  },
  {
   "cell_type": "code",
   "execution_count": null,
   "id": "ecb3a808",
   "metadata": {},
   "outputs": [],
   "source": []
  }
 ],
 "metadata": {
  "kernelspec": {
   "display_name": "Python 3 (ipykernel)",
   "language": "python",
   "name": "python3"
  },
  "language_info": {
   "codemirror_mode": {
    "name": "ipython",
    "version": 3
   },
   "file_extension": ".py",
   "mimetype": "text/x-python",
   "name": "python",
   "nbconvert_exporter": "python",
   "pygments_lexer": "ipython3",
   "version": "3.9.7"
  }
 },
 "nbformat": 4,
 "nbformat_minor": 5
}
